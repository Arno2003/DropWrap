{
 "cells": [
  {
   "cell_type": "markdown",
   "metadata": {},
   "source": [
    "<h3>Read CSV</h3>"
   ]
  },
  {
   "cell_type": "code",
   "execution_count": 20,
   "metadata": {},
   "outputs": [],
   "source": [
    "import pandas as pd\n",
    "df = pd.read_csv('D:\\DEVELOPEMENT\\Dropwrap\\Smart-India-Hackathon\\BackEnd\\database\\Andhra Pradesh.csv', skiprows=4)\n",
    "\n",
    "df = df.iloc[:, :10]\n",
    "\n",
    "df.to_csv('D:\\DEVELOPEMENT\\Dropwrap\\Smart-India-Hackathon\\BackEnd\\database\\processed\\Andhra Pradesh.csv')"
   ]
  }
 ],
 "metadata": {
  "kernelspec": {
   "display_name": "Python 3",
   "language": "python",
   "name": "python3"
  },
  "language_info": {
   "codemirror_mode": {
    "name": "ipython",
    "version": 3
   },
   "file_extension": ".py",
   "mimetype": "text/x-python",
   "name": "python",
   "nbconvert_exporter": "python",
   "pygments_lexer": "ipython3",
   "version": "3.11.4"
  }
 },
 "nbformat": 4,
 "nbformat_minor": 2
}
