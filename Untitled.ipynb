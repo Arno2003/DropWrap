{
 "cells": [
  {
   "cell_type": "code",
   "execution_count": 1,
   "id": "366d2fab-18a5-4ceb-9afb-96a8b6fb7f3e",
   "metadata": {},
   "outputs": [],
   "source": [
    "import pandas as pd\n"
   ]
  },
  {
   "cell_type": "code",
   "execution_count": 2,
   "id": "c9389634-7f34-4988-af02-4195321e8775",
   "metadata": {},
   "outputs": [
    {
     "ename": "NameError",
     "evalue": "name 'ANI' is not defined",
     "output_type": "error",
     "traceback": [
      "\u001b[1;31m---------------------------------------------------------------------------\u001b[0m",
      "\u001b[1;31mNameError\u001b[0m                                 Traceback (most recent call last)",
      "Cell \u001b[1;32mIn[2], line 1\u001b[0m\n\u001b[1;32m----> 1\u001b[0m df \u001b[38;5;241m=\u001b[39m pd\u001b[38;5;241m.\u001b[39mread_csv(\u001b[43mANI\u001b[49m\u001b[38;5;241m.\u001b[39mcsv) \n\u001b[0;32m      3\u001b[0m df \u001b[38;5;241m=\u001b[39m df\u001b[38;5;241m.\u001b[39miloc[\u001b[38;5;241m1\u001b[39m:] \n\u001b[0;32m      5\u001b[0m \u001b[38;5;28mprint\u001b[39m(df) \n",
      "\u001b[1;31mNameError\u001b[0m: name 'ANI' is not defined"
     ]
    }
   ],
   "source": [
    "df = pd.read_csv(ANI.csv) \n",
    "\n",
    "df = df.iloc[1:] \n",
    "\n",
    "print(df) \n"
   ]
  },
  {
   "cell_type": "code",
   "execution_count": null,
   "id": "6c277177-8637-4611-8930-8db86d5aa984",
   "metadata": {},
   "outputs": [],
   "source": []
  }
 ],
 "metadata": {
  "kernelspec": {
   "display_name": "Python 3 (ipykernel)",
   "language": "python",
   "name": "python3"
  },
  "language_info": {
   "codemirror_mode": {
    "name": "ipython",
    "version": 3
   },
   "file_extension": ".py",
   "mimetype": "text/x-python",
   "name": "python",
   "nbconvert_exporter": "python",
   "pygments_lexer": "ipython3",
   "version": "3.8.0"
  }
 },
 "nbformat": 4,
 "nbformat_minor": 5
}
